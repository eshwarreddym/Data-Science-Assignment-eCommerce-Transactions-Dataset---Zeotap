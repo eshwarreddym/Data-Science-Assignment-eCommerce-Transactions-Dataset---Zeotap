{
  "nbformat": 4,
  "nbformat_minor": 0,
  "metadata": {
    "colab": {
      "provenance": []
    },
    "kernelspec": {
      "name": "python3",
      "display_name": "Python 3"
    },
    "language_info": {
      "name": "python"
    }
  },
  "cells": [
    {
      "cell_type": "code",
      "execution_count": 1,
      "metadata": {
        "id": "-tR5dxHVCQ-r"
      },
      "outputs": [],
      "source": [
        "import pandas as pd\n",
        "from sklearn.metrics.pairwise import cosine_similarity\n",
        "from sklearn.preprocessing import StandardScaler"
      ]
    },
    {
      "cell_type": "code",
      "source": [
        "customers = pd.read_csv('Customers.csv')\n",
        "transactions = pd.read_csv('Transactions.csv')\n"
      ],
      "metadata": {
        "id": "qqufKQ80CbKy"
      },
      "execution_count": 2,
      "outputs": []
    },
    {
      "cell_type": "code",
      "source": [
        "# Aggregate transaction data\n",
        "customer_transactions = transactions.groupby('CustomerID').agg({\n",
        "    'TotalValue': 'sum',\n",
        "    'Quantity': 'sum'\n",
        "}).reset_index()"
      ],
      "metadata": {
        "id": "AdgZK15kCk7r"
      },
      "execution_count": 3,
      "outputs": []
    },
    {
      "cell_type": "code",
      "source": [
        "# Merge customer profiles with transaction data\n",
        "customer_profile = customers.merge(customer_transactions, on='CustomerID', how='left').fillna(0)"
      ],
      "metadata": {
        "id": "XS5X0QUSCnKK"
      },
      "execution_count": 4,
      "outputs": []
    },
    {
      "cell_type": "code",
      "source": [
        "# Standardize numerical data for similarity calculations\n",
        "scaler = StandardScaler()\n",
        "customer_features = scaler.fit_transform(customer_profile[['TotalValue', 'Quantity']])"
      ],
      "metadata": {
        "id": "jBo1U7KbCpCf"
      },
      "execution_count": 5,
      "outputs": []
    },
    {
      "cell_type": "code",
      "source": [
        "# Calculate cosine similarity between customers\n",
        "similarity_matrix = cosine_similarity(customer_features)\n",
        "similarity_df = pd.DataFrame(similarity_matrix,\n",
        "                             index=customer_profile['CustomerID'],\n",
        "                             columns=customer_profile['CustomerID'])\n"
      ],
      "metadata": {
        "id": "KxSTKmxkCrVn"
      },
      "execution_count": 6,
      "outputs": []
    },
    {
      "cell_type": "code",
      "source": [
        "# Generate the top 3 lookalike customers for each of the first 20 customers\n",
        "lookalikes = {}\n",
        "for customer_id in customer_profile['CustomerID'][:20]:\n",
        "    similar_customers = similarity_df[customer_id].sort_values(ascending=False)[1:4]\n",
        "    lookalikes[customer_id] = list(zip(similar_customers.index, similar_customers.values))\n"
      ],
      "metadata": {
        "id": "Mgx4gzwxCtCO"
      },
      "execution_count": 7,
      "outputs": []
    },
    {
      "cell_type": "code",
      "source": [
        "# Convert the lookalike data into a DataFrame for easier inspection\n",
        "lookalike_df = pd.DataFrame([{'CustomerID': k, 'Lookalikes': v} for k, v in lookalikes.items()])"
      ],
      "metadata": {
        "id": "aVTWh7s9CuzR"
      },
      "execution_count": 8,
      "outputs": []
    },
    {
      "cell_type": "code",
      "source": [
        "# Save the lookalike recommendations to a CSV file\n",
        "lookalike_df.to_csv('Lookalike.csv', index=False)\n",
        "\n",
        "# Print the first few rows of the lookalike DataFrame to verify\n",
        "print(lookalike_df.head())"
      ],
      "metadata": {
        "colab": {
          "base_uri": "https://localhost:8080/"
        },
        "id": "097a1PJMCxDl",
        "outputId": "dc00dd6e-5526-495e-c0dd-474675d26eee"
      },
      "execution_count": 9,
      "outputs": [
        {
          "output_type": "stream",
          "name": "stdout",
          "text": [
            "  CustomerID                                         Lookalikes\n",
            "0      C0001  [(C0164, 0.9999247622065323), (C0085, 0.999596...\n",
            "1      C0002  [(C0157, 0.9999942123711493), (C0094, 0.999827...\n",
            "2      C0003  [(C0111, 0.9956161658685471), (C0160, 0.989198...\n",
            "3      C0004  [(C0162, 0.9999998954114413), (C0165, 0.999964...\n",
            "4      C0005  [(C0080, 0.9999807052404533), (C0167, 0.999973...\n"
          ]
        }
      ]
    },
    {
      "cell_type": "code",
      "source": [],
      "metadata": {
        "id": "Y9R2lA8tCzhe"
      },
      "execution_count": null,
      "outputs": []
    }
  ]
}